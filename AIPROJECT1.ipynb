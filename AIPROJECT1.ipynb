{
  "nbformat": 4,
  "nbformat_minor": 0,
  "metadata": {
    "colab": {
      "provenance": []
    },
    "kernelspec": {
      "name": "python3",
      "display_name": "Python 3"
    },
    "language_info": {
      "name": "python"
    },
    "accelerator": "GPU",
    "gpuClass": "standard"
  },
  "cells": [
    {
      "cell_type": "markdown",
      "source": [
        "# **Abstract** :\n",
        " Pulsar candidates collected during the HTRU survey. Pulsars are a type of star, of considerable scientific interest. Candidates must be classified in to pulsar and non-pulsar classes to aid discovery.\n",
        "\n",
        "---\n",
        "\n",
        "# **Attribute Information :**\n",
        "\n",
        "\n",
        "---\n",
        "\n",
        "Each candidate is described by 8 continuous variables, and a single class variable. The first four are simple statistics obtained from the integrated pulse profile (folded profile). This is an array of continuous variables that describe a longitude-resolved version of the signal that has been averaged in both time and frequency. The remaining four variables are similarly obtained from the DM-SNR curve.\n",
        "\n",
        "These are summarised below:\n",
        "\n",
        "1. Mean of the integrated profile.\n",
        "2. Standard deviation of the integrated profile.\n",
        "3. Excess kurtosis of the integrated profile.\n",
        "4. Skewness of the integrated profile.\n",
        "5. Mean of the DM-SNR curve.\n",
        "6. Standard deviation of the DM-SNR curve.\n",
        "7. Excess kurtosis of the DM-SNR curve.\n",
        "8. Skewness of the DM-SNR curve.\n",
        "9. Class\n",
        "\n",
        "# **HTRU 2 Summary :**\n",
        "17,898 total examples.\n",
        "1,639 positive examples.\n",
        "16,259 negative examples.\n"
      ],
      "metadata": {
        "id": "NcYK3tsDDbP9"
      }
    },
    {
      "cell_type": "markdown",
      "source": [
        " STEP 1 : Import the required libraries:"
      ],
      "metadata": {
        "id": "dC6Z0SseDgml"
      }
    },
    {
      "cell_type": "code",
      "execution_count": null,
      "metadata": {
        "id": "HramHfALCuiv"
      },
      "outputs": [],
      "source": [
        "import numpy as np\n",
        "import pandas as pd\n",
        "import matplotlib.pyplot as plt\n",
        "import tensorflow as tf"
      ]
    },
    {
      "cell_type": "markdown",
      "source": [
        "STEP 2 : Load the dataset:"
      ],
      "metadata": {
        "id": "RTXWpKlYDpL3"
      }
    },
    {
      "cell_type": "code",
      "source": [
        "dataset = np.loadtxt('HTRU_2_AIDATASET.csv', delimiter=\",\", skiprows=1)\n"
      ],
      "metadata": {
        "id": "uo0aG7aZDl8Q"
      },
      "execution_count": null,
      "outputs": []
    },
    {
      "cell_type": "markdown",
      "source": [
        "STEP 3 : Print the shape of the dataset:"
      ],
      "metadata": {
        "id": "iMbq5hMzDzKp"
      }
    },
    {
      "cell_type": "code",
      "source": [
        "print(dataset.shape)\n"
      ],
      "metadata": {
        "id": "xwoYSdTpDyHh"
      },
      "execution_count": null,
      "outputs": []
    },
    {
      "cell_type": "markdown",
      "source": [
        "STEP 4 : Normalize the data:"
      ],
      "metadata": {
        "id": "xdXrlLbND4Wn"
      }
    },
    {
      "cell_type": "code",
      "source": [
        "data_normalized = (dataset - dataset.min(axis=0)) / (dataset.max(axis=0) - dataset.min(axis=0))\n"
      ],
      "metadata": {
        "id": "vLWD_vWeD95T"
      },
      "execution_count": null,
      "outputs": []
    },
    {
      "cell_type": "markdown",
      "source": [
        "STEP 5 : Shuffle the dataset:"
      ],
      "metadata": {
        "id": "bCzC-DLYEEEC"
      }
    },
    {
      "cell_type": "code",
      "source": [
        "np.random.shuffle(data_normalized)\n"
      ],
      "metadata": {
        "id": "EpuLhrhlEBqu"
      },
      "execution_count": null,
      "outputs": []
    },
    {
      "cell_type": "markdown",
      "source": [
        "STEP 6 : Split the dataset into training and testing sets using an 80:20 split:"
      ],
      "metadata": {
        "id": "OUG4ePi2EIw5"
      }
    },
    {
      "cell_type": "code",
      "source": [
        "train_data = data_normalized[:int(0.8 * len(data_normalized))]\n",
        "test_data = data_normalized[int(0.8 * len(data_normalized)):]\n"
      ],
      "metadata": {
        "id": "XAI83pSbEP1M"
      },
      "execution_count": null,
      "outputs": []
    },
    {
      "cell_type": "markdown",
      "source": [
        "STEP 7 : Separate the features and target variable:"
      ],
      "metadata": {
        "id": "NCw7lGICERpm"
      }
    },
    {
      "cell_type": "code",
      "source": [
        "X_train = train_data[:, :-1]\n",
        "y_train = train_data[:, -1]\n",
        "X_test = test_data[:, :-1]\n",
        "y_test = test_data[:, -1]\n"
      ],
      "metadata": {
        "id": "GAyf9v77EaLs"
      },
      "execution_count": null,
      "outputs": []
    },
    {
      "cell_type": "markdown",
      "source": [
        "STEP 8 : Build the neural network model using TensorFlow:"
      ],
      "metadata": {
        "id": "luPrji0AEcbs"
      }
    },
    {
      "cell_type": "code",
      "source": [
        "def create_model(input_shape):\n",
        "    model = tf.keras.Sequential([\n",
        "        tf.keras.layers.Dense(16, activation='relu', input_shape=input_shape),\n",
        "        tf.keras.layers.Dense(8, activation='relu'),\n",
        "        tf.keras.layers.Dense(1, activation='sigmoid')\n",
        "    ])\n",
        "    model.compile(optimizer='adam', loss='binary_crossentropy', metrics=['accuracy'])\n",
        "    return model\n",
        "\n",
        "model = create_model((X_train.shape[1],))\n"
      ],
      "metadata": {
        "id": "L1aXJx12EgSC"
      },
      "execution_count": null,
      "outputs": []
    },
    {
      "cell_type": "markdown",
      "source": [
        "STEP 9 : Train the model using the training data, with 100 epochs, a batch size of 32, and a 20% validation split:"
      ],
      "metadata": {
        "id": "rd6k7p0jEicq"
      }
    },
    {
      "cell_type": "code",
      "source": [
        "history = model.fit(X_train, y_train, epochs=100, batch_size=32, validation_split=0.2, verbose=1)\n"
      ],
      "metadata": {
        "id": "GA0XB4tgEsX2"
      },
      "execution_count": null,
      "outputs": []
    },
    {
      "cell_type": "markdown",
      "source": [
        "STEP 10 : Visualize the training process:"
      ],
      "metadata": {
        "id": "nxualZHKEuZy"
      }
    },
    {
      "cell_type": "code",
      "source": [
        "# Plot training and validation loss\n",
        "plt.figure()\n",
        "plt.plot(history.history['loss'], label='Training Loss')\n",
        "plt.plot(history.history['val_loss'], label='Validation Loss')\n",
        "plt.xlabel('Epochs')\n",
        "plt.ylabel('Loss')\n",
        "plt.title('Training and Validation Loss')\n",
        "plt.legend()\n",
        "\n",
        "# Plot training and validation accuracy\n",
        "plt.figure()\n",
        "plt.plot(history.history['accuracy'], label='Training Accuracy')\n",
        "plt.plot(history.history['val_accuracy'], label='Validation Accuracy')\n",
        "plt.xlabel('Epochs')\n",
        "plt.ylabel('Accuracy')\n",
        "plt.title('Training and Validation Accuracy')\n",
        "plt.legend()\n",
        "\n",
        "plt.show()\n"
      ],
      "metadata": {
        "id": "8xo0N16RE2Vg"
      },
      "execution_count": null,
      "outputs": []
    },
    {
      "cell_type": "markdown",
      "source": [
        "STEP 11 : Evaluate the model:"
      ],
      "metadata": {
        "id": "hsQy-1umE4OT"
      }
    },
    {
      "cell_type": "code",
      "source": [
        "loss, accuracy = model.evaluate(X_test, y_test)\n",
        "print(f\"Accuracy: {accuracy:.4f}\")\n"
      ],
      "metadata": {
        "id": "5rTpB8w8E7rI"
      },
      "execution_count": null,
      "outputs": []
    },
    {
      "cell_type": "markdown",
      "source": [
        "STEP 12 : Manually calculate precision, recall, and F1-score:"
      ],
      "metadata": {
        "id": "t2YCIvuKE99P"
      }
    },
    {
      "cell_type": "code",
      "source": [
        "y_pred = (model.predict(X_test) > 0.5).astype(\"int32\")\n",
        "\n",
        "tp = np.sum((y_pred == 1) & (y_test == 1))\n",
        "tn = np.sum((y_pred == 0) & (y_test == 0))\n",
        "fp = np.sum((y_pred == 1) & (y_test == 0))\n",
        "fn = np.sum((y_pred == 0) & (y_test == 1))\n",
        "\n",
        "precision = tp / (tp + fp)\n",
        "recall = tp / (tp + fn)\n",
        "f1 = 2 * (precision * recall) / (precision + recall)\n",
        "\n",
        "print(f\"Precision: {precision:.4f}\")\n",
        "print(f\"Recall: {recall:.4f}\")\n",
        "print(f\"F1-score: {f1:.4f}\")\n"
      ],
      "metadata": {
        "id": "k23D_ZyAFKt3"
      },
      "execution_count": null,
      "outputs": []
    },
    {
      "cell_type": "code",
      "source": [
        "val_split = int(0.8 * len(train_data))\n",
        "X_train_val, y_train_val = X_train[:val_split], y_train[:val_split]\n",
        "X_valid, y_valid = X_train[val_split:], y_train[val_split:]\n"
      ],
      "metadata": {
        "id": "G6CSYdhAIRzu"
      },
      "execution_count": null,
      "outputs": []
    },
    {
      "cell_type": "code",
      "source": [
        "single_feature_accuracies = []\n",
        "\n",
        "for i in range(X_train_val.shape[1]):\n",
        "    X_train_single = X_train_val[:, i:i+1]\n",
        "    X_valid_single = X_valid[:, i:i+1]\n",
        "    \n",
        "    model_single_feature = create_model((1,))\n",
        "    model_single_feature.fit(X_train_single, y_train_val, epochs=100, batch_size=32, verbose=1)\n",
        "    _, accuracy = model_single_feature.evaluate(X_valid_single, y_valid, verbose=1)\n",
        "    single_feature_accuracies.append(accuracy)\n"
      ],
      "metadata": {
        "id": "59uME5zsIUmH"
      },
      "execution_count": null,
      "outputs": []
    },
    {
      "cell_type": "code",
      "source": [
        "feature_indices_ranked = np.argsort(single_feature_accuracies)[::-1]\n"
      ],
      "metadata": {
        "id": "Rm8Qfv9mIYFC"
      },
      "execution_count": null,
      "outputs": []
    },
    {
      "cell_type": "code",
      "source": [
        "reduced_feature_accuracies = []\n",
        "\n",
        "for num_features_to_remove in range(X_train_val.shape[1]):\n",
        "    removed_features = feature_indices_ranked[-(num_features_to_remove+1):]\n",
        "    selected_features = [i for i in range(X_train_val.shape[1]) if i not in removed_features]\n",
        "    \n",
        "    X_train_reduced = X_train_val[:, selected_features]\n",
        "    X_valid_reduced = X_valid[:, selected_features]\n",
        "    \n",
        "    model_reduced = create_model((len(selected_features),))\n",
        "    model_reduced.fit(X_train_reduced, y_train_val, epochs=100, batch_size=32, verbose=1)\n",
        "    _, accuracy = model_reduced.evaluate(X_valid_reduced, y_valid, verbose=1)\n",
        "    reduced_feature_accuracies.append(accuracy)\n"
      ],
      "metadata": {
        "id": "CrTCcaQhIaIm"
      },
      "execution_count": null,
      "outputs": []
    },
    {
      "cell_type": "code",
      "source": [
        "best_reduced_model_idx = np.argmax(reduced_feature_accuracies)\n",
        "best_reduced_model_accuracy = reduced_feature_accuracies[best_reduced_model_idx]\n"
      ],
      "metadata": {
        "id": "R_zLRmJUIdm_"
      },
      "execution_count": null,
      "outputs": []
    },
    {
      "cell_type": "code",
      "source": [
        "print(f\"Best accuracy with all input features: {accuracy:.4f}\")\n",
        "print(f\"Best accuracy with reduced features: {best_reduced_model_accuracy:.4f}\")\n"
      ],
      "metadata": {
        "id": "mXp7k4fIIgGx"
      },
      "execution_count": null,
      "outputs": []
    }
  ]
}